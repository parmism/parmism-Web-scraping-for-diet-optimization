{
 "cells": [
  {
   "cell_type": "markdown",
   "id": "4bfcd292",
   "metadata": {},
   "source": [
    "## Introduction\n",
    "\n",
    "Access to a nutritious diet is not convenient for an average American as a result of multiple factors. Education about the optimal combination of macronutrients, a liberal budget to acquire them, and suficient time to choose and adjust ingredient quantities to reach the macro goals are among some of these factors that this project seems to address. \n",
    "\n",
    "According to doctor, health coach and nutritionist Gabrielle Lyon, Americans on average do not meet their daily protein and fibre goals, and often exceed their sugar and saturated fat goals, and it is not surprising that these issues are more prevelant amongst the lower-income households. Even for individuals who have spent considerable time educating themselves on optimal macro intakes for their health goals and make an effort to plan their meals and groceries accordingly, in times of high price volatility and inflation, commmitting to a fixed plan may not be financially sustainable, and individuals may find themselves substituting high quality proteins and fibres with lower quality products that unintentionally bring saturated fats and high amounts of sugar into their diet. \n",
    "\n",
    "This project aims to produce a model, as well as a basis for policy recommendations with regards to web-scraping legislation, that would ultimately smoothen this process for ordinary citizens, thus improving access to nutritious diets on a wide scale. "
   ]
  },
  {
   "cell_type": "markdown",
   "id": "46ae8e8d",
   "metadata": {},
   "source": [
    "## Overview of steps (not finalized)\n",
    "\n",
    "1. Calculate caloric intake/ dietary needs \n",
    "    1. Partnership with dieticians/ firms specialised in this, many (including myfitnesspal) have already automated this\n",
    "2. Input location/ information to detect nearest Walmart/ other budget grocery store with online price availability \n",
    "3. Scrape the internet for recipes and input into a dataframe\n",
    "    1. Could include/ exclude items for certain dietary restrictions \n",
    "    2. Which website? What kind of recipes? \n",
    "    3. Potential partnerships for a large-scale project: companies that work on compiling recipes \n",
    "4. Make a dataset of ingredients of each recipe, for all recipes \n",
    "5. Scrape Instacart/ Walmart website for prices of all ingredients \n",
    "    1. Legality og scraping for prices under the competition act --> competitor price scraping could be illegal\n",
    "    2. Think about the implications of legalizing web scraping for prices --> this ccould have ground breaking implications in terms of reducing search cost, promoting competitive markets and helping consumers with household item costs.\n",
    "6. Adjust main ingredients (protein vegetables carbs) to minimise cost s.t. Given nutrition values\n",
    "7. Make a plan that minimises repetition of ingredients/ minimises waste"
   ]
  },
  {
   "cell_type": "markdown",
   "id": "c428b757",
   "metadata": {},
   "source": [
    "## Aims\n",
    "\n",
    "- We could automate the meal planning phase: inputting the user’s info to determine caloric/ dietary needs, location, and ultimately providing them with a recipe/ list of recipes that hit these goals at the lowest cost, while maintaining some variety in dining options (optional), and optionally provide a grocery list for a given number of portions\n",
    "- This planning phase could reduce decision time, optimally (in a way that’s manually impossible) allocate budget to food that maximises your nutrition intake \n",
    "- Target: low income households, those who wish to achieve their dietary goals at the cheapest level"
   ]
  },
  {
   "cell_type": "markdown",
   "id": "333a27df",
   "metadata": {},
   "source": [
    "## Diet optimization problem, example (step 6)"
   ]
  },
  {
   "cell_type": "code",
   "execution_count": 19,
   "id": "30a17446",
   "metadata": {},
   "outputs": [],
   "source": [
    "# !pip install PuLP==2.0\n",
    "# This is my Linear Programming (LP) library used to solve optimization problems\n",
    "\n",
    "# Import all classes of PuLP module\n",
    "from pulp import *\n",
    "import pandas as pd"
   ]
  },
  {
   "cell_type": "code",
   "execution_count": 69,
   "id": "b8c73d81",
   "metadata": {},
   "outputs": [
    {
     "data": {
      "text/html": [
       "<div>\n",
       "<style scoped>\n",
       "    .dataframe tbody tr th:only-of-type {\n",
       "        vertical-align: middle;\n",
       "    }\n",
       "\n",
       "    .dataframe tbody tr th {\n",
       "        vertical-align: top;\n",
       "    }\n",
       "\n",
       "    .dataframe thead th {\n",
       "        text-align: right;\n",
       "    }\n",
       "</style>\n",
       "<table border=\"1\" class=\"dataframe\">\n",
       "  <thead>\n",
       "    <tr style=\"text-align: right;\">\n",
       "      <th></th>\n",
       "      <th>product_name</th>\n",
       "      <th>price</th>\n",
       "      <th>calories</th>\n",
       "      <th>carbs</th>\n",
       "      <th>fat</th>\n",
       "      <th>protein</th>\n",
       "      <th>fibre</th>\n",
       "      <th>sugar</th>\n",
       "      <th>sat_fat</th>\n",
       "    </tr>\n",
       "  </thead>\n",
       "  <tbody>\n",
       "    <tr>\n",
       "      <th>0</th>\n",
       "      <td>rice</td>\n",
       "      <td>0.38</td>\n",
       "      <td>129</td>\n",
       "      <td>27.9</td>\n",
       "      <td>0.28</td>\n",
       "      <td>2.66</td>\n",
       "      <td>0.4</td>\n",
       "      <td>0.5</td>\n",
       "      <td>0.08</td>\n",
       "    </tr>\n",
       "    <tr>\n",
       "      <th>1</th>\n",
       "      <td>lean_gr_beef</td>\n",
       "      <td>1.43</td>\n",
       "      <td>230</td>\n",
       "      <td>0.0</td>\n",
       "      <td>12.00</td>\n",
       "      <td>14.00</td>\n",
       "      <td>0.0</td>\n",
       "      <td>0.0</td>\n",
       "      <td>4.70</td>\n",
       "    </tr>\n",
       "    <tr>\n",
       "      <th>2</th>\n",
       "      <td>broccoli</td>\n",
       "      <td>1.01</td>\n",
       "      <td>35</td>\n",
       "      <td>7.4</td>\n",
       "      <td>0.40</td>\n",
       "      <td>2.80</td>\n",
       "      <td>2.6</td>\n",
       "      <td>1.7</td>\n",
       "      <td>0.00</td>\n",
       "    </tr>\n",
       "  </tbody>\n",
       "</table>\n",
       "</div>"
      ],
      "text/plain": [
       "   product_name  price  calories  carbs    fat  protein  fibre  sugar  sat_fat\n",
       "0          rice   0.38       129   27.9   0.28     2.66    0.4    0.5     0.08\n",
       "1  lean_gr_beef   1.43       230    0.0  12.00    14.00    0.0    0.0     4.70\n",
       "2      broccoli   1.01        35    7.4   0.40     2.80    2.6    1.7     0.00"
      ]
     },
     "execution_count": 69,
     "metadata": {},
     "output_type": "execute_result"
    }
   ],
   "source": [
    "example_per_100g = {'product_name': ['rice', 'lean_gr_beef', 'broccoli'],\n",
    "                    'price': [0.38, 1.43, 1.01],\n",
    "                    'calories': [129, 230, 35],\n",
    "                    'carbs': [27.9, 0, 7.4],\n",
    "           'fat': [0.28, 12, 0.4],\n",
    "           'protein': [2.66, 14, 2.8],\n",
    "           'fibre': [0.4, 0, 2.6],\n",
    "           'sugar': [0.5, 0, 1.7],\n",
    "           'sat_fat': [0.08, 4.7, 0]\n",
    "        }\n",
    "\n",
    "example_per_100g = pd.DataFrame(example_per_100g)\n",
    "example_per_100g"
   ]
  },
  {
   "cell_type": "code",
   "execution_count": 44,
   "id": "b4e2f3ae",
   "metadata": {},
   "outputs": [
    {
     "data": {
      "text/html": [
       "<div>\n",
       "<style scoped>\n",
       "    .dataframe tbody tr th:only-of-type {\n",
       "        vertical-align: middle;\n",
       "    }\n",
       "\n",
       "    .dataframe tbody tr th {\n",
       "        vertical-align: top;\n",
       "    }\n",
       "\n",
       "    .dataframe thead th {\n",
       "        text-align: right;\n",
       "    }\n",
       "</style>\n",
       "<table border=\"1\" class=\"dataframe\">\n",
       "  <thead>\n",
       "    <tr style=\"text-align: right;\">\n",
       "      <th></th>\n",
       "      <th>calories</th>\n",
       "      <th>carbs</th>\n",
       "      <th>fat (g)</th>\n",
       "      <th>protein (g)</th>\n",
       "      <th>fibre (g)</th>\n",
       "      <th>sugar (g)</th>\n",
       "      <th>sat_fat (g)</th>\n",
       "    </tr>\n",
       "  </thead>\n",
       "  <tbody>\n",
       "    <tr>\n",
       "      <th>0</th>\n",
       "      <td>&gt;500</td>\n",
       "      <td>&gt;50</td>\n",
       "      <td>&lt;35</td>\n",
       "      <td>&gt;38</td>\n",
       "      <td>&gt;7</td>\n",
       "      <td>&lt;5</td>\n",
       "      <td>&lt;5</td>\n",
       "    </tr>\n",
       "  </tbody>\n",
       "</table>\n",
       "</div>"
      ],
      "text/plain": [
       "  calories carbs  fat (g) protein (g) fibre (g) sugar (g) sat_fat (g)\n",
       "0     >500    >50     <35         >38        >7        <5          <5"
      ]
     },
     "execution_count": 44,
     "metadata": {},
     "output_type": "execute_result"
    }
   ],
   "source": [
    "# assume that the following is my caloric goals for dinner\n",
    "goals = {'calories': ['>500'],\n",
    "                    'carbs ': ['>50'], 'fat (g)': ['<35'], 'protein (g)': ['>38'],\n",
    "                    'fibre (g)': ['>7'], 'sugar (g)': ['<5'],'sat_fat (g)': ['<5']}\n",
    "        \n",
    "goals = pd.DataFrame(goals)\n",
    "goals"
   ]
  },
  {
   "cell_type": "code",
   "execution_count": 88,
   "id": "3b52bdcb",
   "metadata": {},
   "outputs": [
    {
     "name": "stdout",
     "output_type": "stream",
     "text": [
      "broccoli = 311.07023 grams\n",
      "lean_gr_beef = 260.88626 grams\n",
      "rice = -271.95649 grams\n",
      "Value of Objective Function (i.e. price) =  5.839048179000001\n"
     ]
    }
   ],
   "source": [
    "# Create the problem variable to contain the problem data\n",
    "model = LpProblem(\"Balanced Diet Problem\", LpMinimize)\n",
    "\n",
    "# Define Decision Variables\n",
    "x1 = LpVariable(example_per_100g['product_name'][0], 0, 3, LpContinuous)\n",
    "x2 = LpVariable(example_per_100g['product_name'][1], 0, 3, LpContinuous) \n",
    "x3 = LpVariable(example_per_100g['product_name'][2], 0, 3, LpContinuous) \n",
    "\n",
    "# Define Prices\n",
    "price_1 = example_per_100g['price'][0]\n",
    "price_2 = example_per_100g['price'][1]\n",
    "price_3 = example_per_100g['price'][2]\n",
    "\n",
    "# Define Objective\n",
    "model += (price_1 * x1) + (price_2 * x2) + (price_3 * x3)\n",
    "\n",
    "# Define Constraints\n",
    "model += x1 + x2 + x3 <= 3 # we don't want our dinner ingredients exceeding 300g total\n",
    "\n",
    "model += example_per_100g['calories'][0]*x1 + example_per_100g['calories'][1]*x2 + example_per_100g['calories'][2]*x3 >= 500 # Calories\n",
    "model += example_per_100g['carbs'][0]*x1 + example_per_100g['carbs'][1]*x2 + example_per_100g['carbs'][2]*x3 >= 50 # Carbs\n",
    "model += example_per_100g['fat'][0]*x1 + example_per_100g['fat'][1]*x2 + example_per_100g['fat'][2]*x3 <= 35 # Fat\n",
    "model += example_per_100g['protein'][0]*x1 + example_per_100g['protein'][1]*x2 + example_per_100g['protein'][2]*x3 >= 38 # protein\n",
    "model += example_per_100g['fibre'][0]*x1 + example_per_100g['fibre'][1]*x2 + example_per_100g['fibre'][2]*x3 >= 7 # fibre\n",
    "model += example_per_100g['sugar'][0]*x1 + example_per_100g['sugar'][1]*x2 + example_per_100g['sugar'][2]*x3 <= 5 # sugar\n",
    "model += example_per_100g['sat_fat'][0]*x1 + example_per_100g['sat_fat'][1]*x2 + example_per_100g['sat_fat'][2]*x3 <= 5 # sat_fat\n",
    "\n",
    "\n",
    "# The problem is solved using PuLP's choice of Solver\n",
    "model.solve()\n",
    "\n",
    "# Print the variables optimized value\n",
    "for v in model.variables():\n",
    "    print(v.name, \"=\", v.varValue * 100, 'grams')\n",
    "    \n",
    "# The optimised objective function value is printed to the screen\n",
    "print(\"Value of Objective Function (i.e. price) = \", value(model.objective))"
   ]
  },
  {
   "cell_type": "markdown",
   "id": "416a2d7e",
   "metadata": {},
   "source": [
    "To be fixed --> the lower bound constraints of 0 for each ingredient seems to not be working --> to be fixed"
   ]
  },
  {
   "cell_type": "markdown",
   "id": "7ac23171",
   "metadata": {},
   "source": [
    "Web scraping --> BeautifulSoup\n",
    "- Walmart's own web scraping API --> does not scrape prices, but other info \n",
    "- perhaps useful for obtaining nutritional info though?"
   ]
  }
 ],
 "metadata": {
  "kernelspec": {
   "display_name": "Python 3 (ipykernel)",
   "language": "python",
   "name": "python3"
  },
  "language_info": {
   "codemirror_mode": {
    "name": "ipython",
    "version": 3
   },
   "file_extension": ".py",
   "mimetype": "text/x-python",
   "name": "python",
   "nbconvert_exporter": "python",
   "pygments_lexer": "ipython3",
   "version": "3.9.7"
  }
 },
 "nbformat": 4,
 "nbformat_minor": 5
}
